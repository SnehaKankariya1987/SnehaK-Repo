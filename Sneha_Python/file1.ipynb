{
 "cells": [
  {
   "cell_type": "code",
   "execution_count": 1,
   "metadata": {
    "ExecuteTime": {
     "end_time": "2020-11-07T05:29:06.962988Z",
     "start_time": "2020-11-07T05:29:06.947324Z"
    }
   },
   "outputs": [
    {
     "name": "stdout",
     "output_type": "stream",
     "text": [
      "ABC Holdings\n",
      "Delhi\n",
      "('ABC', 101, 18000.0, 5)\n",
      "__main__\n"
     ]
    }
   ],
   "source": [
    "company_name = 'ABC Holdings'\n",
    "company_hq = 'Delhi'\n",
    "\n",
    "def emp_detail(e_name, e_id, e_sal, e_no_of_years):\n",
    "    if e_no_of_years >= 5:\n",
    "        e_sal = e_sal + e_sal*.5\n",
    "        return e_name, e_id, e_sal, e_no_of_years\n",
    "    else:\n",
    "        return e_name, e_id, e_sal, e_no_of_years\n",
    "    \n",
    "\n",
    "def my_main():\n",
    "    print(company_name)\n",
    "    print(company_hq)\n",
    "    print(emp_detail('ABC', 101, 12000, 5))\n",
    "    print(__name__)\n",
    "\n",
    "if __name__ == '__main__':\n",
    "    my_main()"
   ]
  }
 ],
 "metadata": {
  "kernelspec": {
   "display_name": "Python 3",
   "language": "python",
   "name": "python3"
  },
  "language_info": {
   "codemirror_mode": {
    "name": "ipython",
    "version": 3
   },
   "file_extension": ".py",
   "mimetype": "text/x-python",
   "name": "python",
   "nbconvert_exporter": "python",
   "pygments_lexer": "ipython3",
   "version": "3.8.3"
  },
  "varInspector": {
   "cols": {
    "lenName": 16,
    "lenType": 16,
    "lenVar": 40
   },
   "kernels_config": {
    "python": {
     "delete_cmd_postfix": "",
     "delete_cmd_prefix": "del ",
     "library": "var_list.py",
     "varRefreshCmd": "print(var_dic_list())"
    },
    "r": {
     "delete_cmd_postfix": ") ",
     "delete_cmd_prefix": "rm(",
     "library": "var_list.r",
     "varRefreshCmd": "cat(var_dic_list()) "
    }
   },
   "types_to_exclude": [
    "module",
    "function",
    "builtin_function_or_method",
    "instance",
    "_Feature"
   ],
   "window_display": false
  }
 },
 "nbformat": 4,
 "nbformat_minor": 2
}
